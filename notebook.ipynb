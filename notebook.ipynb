{
 "cells": [
  {
   "cell_type": "markdown",
   "id": "47830120-e015-4677-91db-4d76e08d2500",
   "metadata": {},
   "source": [
    "<img src=\"https://souciencia.unifesp.br/images/logos/Sou_Cincia_RGB_2Linhas_Oficial_Color_2.png\" width=\"25%\" height=\"25%\" />"
   ]
  },
  {
   "cell_type": "markdown",
   "id": "963881ab",
   "metadata": {},
   "source": [
    "# [Biblioteca Digital de Teses e Dissertações](https://bdtd.ibict.br)\n",
    "\n",
    "Scrape dos dados disponíveis na Biblioteca Digital Brasileira de Teses e Dissertações (BDTD)."
   ]
  },
  {
   "cell_type": "code",
   "execution_count": null,
   "metadata": {},
   "outputs": [],
   "source": [
    "%load_ext autoreload\n",
    "%autoreload 2\n",
    "\n",
    "from bdtd import BDTD, main\n",
    "\n",
    "bdtd = BDTD()"
   ]
  },
  {
   "cell_type": "markdown",
   "metadata": {},
   "source": [
    "## Obtenção dos dados"
   ]
  },
  {
   "cell_type": "code",
   "execution_count": null,
   "metadata": {},
   "outputs": [],
   "source": [
    "df = main(\n",
    "    search_term=\"\",\n",
    "    max_pages=None,\n",
    "    # excel=False,\n",
    "    # get_details=False,\n",
    "    # get_pdfs=False,\n",
    "    # max_workers=8,\n",
    "    # output_folder=\"BDTD\",\n",
    ")"
   ]
  },
  {
   "cell_type": "markdown",
   "metadata": {},
   "source": [
    "## Passo a passo"
   ]
  },
  {
   "cell_type": "markdown",
   "metadata": {},
   "source": [
    "### Busca por palavra-chave"
   ]
  },
  {
   "cell_type": "code",
   "execution_count": null,
   "metadata": {},
   "outputs": [],
   "source": [
    "search = bdtd.search(\n",
    "    \"\",\n",
    "    # max_pages=1,\n",
    "    # max_workers=8,\n",
    "    parsed=True,\n",
    ")\n",
    "search"
   ]
  },
  {
   "cell_type": "markdown",
   "metadata": {},
   "source": [
    "### Detalhes de um ou mais itens"
   ]
  },
  {
   "cell_type": "code",
   "execution_count": null,
   "metadata": {},
   "outputs": [],
   "source": [
    "records = bdtd.get_records(\n",
    "    search,\n",
    "    # max_workers=8,\n",
    "    parsed=True,\n",
    ")\n",
    "records"
   ]
  },
  {
   "cell_type": "markdown",
   "metadata": {},
   "source": [
    "### Obtenção dos arquivos em formato PDF"
   ]
  },
  {
   "cell_type": "code",
   "execution_count": null,
   "metadata": {},
   "outputs": [],
   "source": [
    "pdfs = bdtd.get_pdfs(\n",
    "    search,\n",
    "    # max_workers=8,\n",
    ")\n",
    "pdfs"
   ]
  }
 ],
 "metadata": {
  "kernelspec": {
   "display_name": "Python 3.9.12 ('dev')",
   "language": "python",
   "name": "python3"
  },
  "language_info": {
   "codemirror_mode": {
    "name": "ipython",
    "version": 3
   },
   "file_extension": ".py",
   "mimetype": "text/x-python",
   "name": "python",
   "nbconvert_exporter": "python",
   "pygments_lexer": "ipython3",
   "version": "3.9.12"
  },
  "orig_nbformat": 4,
  "vscode": {
   "interpreter": {
    "hash": "8f3e86f05d8baddf70cf80e0364559f9b03ed7f30f85373a81ae132884045b90"
   }
  }
 },
 "nbformat": 4,
 "nbformat_minor": 2
}
